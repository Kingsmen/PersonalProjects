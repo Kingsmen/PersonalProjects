{
 "cells": [
  {
   "cell_type": "code",
   "execution_count": 4,
   "metadata": {},
   "outputs": [],
   "source": [
    "from scipy import linalg as la\n",
    "import numpy as np\n",
    "from scipy import stats\n",
    "import math\n",
    "from matplotlib import pyplot as plt"
   ]
  },
  {
   "cell_type": "code",
   "execution_count": 5,
   "metadata": {},
   "outputs": [],
   "source": [
    "def ball_volume(n, N=10000):\n",
    "    \"\"\"Estimate the volume of the n-dimensional unit ball.\n",
    "\n",
    "    Parameters:\n",
    "        n (int): The dimension of the ball. n=2 corresponds to the unit circle,\n",
    "            n=3 corresponds to the unit sphere, and so on.\n",
    "        N (int): The number of random points to sample.\n",
    "\n",
    "    Returns:\n",
    "        (float): An estimate for the volume of the n-dimensional unit ball.\n",
    "    \"\"\"\n",
    "    points = np.random.uniform(-1, 1, (n, N))\n",
    "    lengths = la.norm(points, 2, axis=0)\n",
    "    num_within = np.count_nonzero(lengths < 1)\n",
    "    return 2**n * (num_within / N)"
   ]
  },
  {
   "cell_type": "code",
   "execution_count": 22,
   "metadata": {},
   "outputs": [
    {
     "data": {
      "text/plain": [
       "3.142476"
      ]
     },
     "execution_count": 22,
     "metadata": {},
     "output_type": "execute_result"
    }
   ],
   "source": [
    "ball_volume(2, N = 1000000)"
   ]
  },
  {
   "cell_type": "code",
   "execution_count": 6,
   "metadata": {},
   "outputs": [],
   "source": [
    "def mc_integrate1d(f, a, b, N=10000):\n",
    "    \"\"\"Approximate the integral of f on the interval [a,b].\n",
    "\n",
    "    Parameters:\n",
    "        f (function): the function to integrate. Accepts and returns scalars.\n",
    "        a (float): the lower bound of interval of integration.\n",
    "        b (float): the lower bound of interval of integration.\n",
    "        N (int): The number of random points to sample.\n",
    "\n",
    "    Returns:\n",
    "        (float): An approximation of the integral of f over [a,b].\n",
    "\n",
    "    Example:\n",
    "        >>> f = lambda x: x**2\n",
    "        >>> mc_integrate1d(f, -4, 2)    # Integrate from -4 to 2.\n",
    "        23.734810301138324              # The true value is 24.\n",
    "    \"\"\"\n",
    "    points = np.random.uniform(a, b, N)\n",
    "    points = f(points)\n",
    "    return np.sum(points) * 1/N * (b-a)"
   ]
  },
  {
   "cell_type": "code",
   "execution_count": 26,
   "metadata": {},
   "outputs": [
    {
     "name": "stdout",
     "output_type": "stream",
     "text": [
      "x^2 23.644743850601035\n",
      "sin(x) 0.01422826167368108\n",
      "1/x 2.2855970892455404\n"
     ]
    }
   ],
   "source": [
    "f = lambda x: x**2\n",
    "g = lambda x: np.sin(x)\n",
    "h = lambda x: 1/x\n",
    "print(\"x^2\", mc_integrate1d(f,-4,2))\n",
    "print(\"sin(x)\", mc_integrate1d(g,-2*np.pi,2*np.pi))\n",
    "print(\"1/x\", mc_integrate1d(h,1,10))"
   ]
  },
  {
   "cell_type": "code",
   "execution_count": 28,
   "metadata": {},
   "outputs": [],
   "source": [
    "def mc_integrate(f, mins, maxs, N=10000):\n",
    "    \"\"\"Approximate the integral of f over the box defined by mins and maxs.\n",
    "\n",
    "    Parameters:\n",
    "        f (function): The function to integrate. Accepts and returns\n",
    "            1-D NumPy arrays of length n.\n",
    "        mins (list): the lower bounds of integration.\n",
    "        maxs (list): the upper bounds of integration.\n",
    "        N (int): The number of random points to sample.\n",
    "\n",
    "    Returns:\n",
    "        (float): An approximation of the integral of f over the domain.\n",
    "\n",
    "    Example:\n",
    "        # Define f(x,y) = 3x - 4y + y^2. Inputs are grouped into an array.\n",
    "        >>> f = lambda x: 3*x[0] - 4*x[1] + x[1]**2\n",
    "\n",
    "        # Integrate over the box [1,3]x[-2,1].\n",
    "        >>> mc_integrate(f, [1, -2], [3, 1])\n",
    "        53.562651072181225              # The true value is 54.\n",
    "    \"\"\"\n",
    "    n = len(mins)\n",
    "    points = np.random.uniform(0, 1, (n,N))\n",
    "    #Rescale points\n",
    "    for i in range(n):\n",
    "        points[i] *= maxs[i]-mins[i]\n",
    "        points[i] += mins[i]\n",
    "    #calculate volume\n",
    "    vol = np.prod([maxs[i] - mins[i] for i in range(len(mins))])\n",
    "    #Evaluate points\n",
    "    out = f(points)\n",
    "    return np.average(out) * vol "
   ]
  },
  {
   "cell_type": "code",
   "execution_count": 51,
   "metadata": {},
   "outputs": [
    {
     "name": "stdout",
     "output_type": "stream",
     "text": [
      "x^2 + y^2:     0.6648325351136645\n",
      "3x -4y + y^2:  54.29300826741456\n"
     ]
    }
   ],
   "source": [
    "f = lambda x: x[0]**2 + x[1]**2\n",
    "g = lambda x: 3*x[0] -4*x[1] + x[1]**2\n",
    "print(\"x^2 + y^2:    \", mc_integrate(f,[0,0],[1,1]))\n",
    "print(\"3x -4y + y^2: \", mc_integrate(g,[1,-2],[3,1]))"
   ]
  }
 ],
 "metadata": {
  "kernelspec": {
   "display_name": "Python 3",
   "language": "python",
   "name": "python3"
  },
  "language_info": {
   "codemirror_mode": {
    "name": "ipython",
    "version": 3
   },
   "file_extension": ".py",
   "mimetype": "text/x-python",
   "name": "python",
   "nbconvert_exporter": "python",
   "pygments_lexer": "ipython3",
   "version": "3.6.6"
  }
 },
 "nbformat": 4,
 "nbformat_minor": 2
}
