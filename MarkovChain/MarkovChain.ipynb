{
 "cells": [
  {
   "cell_type": "code",
   "execution_count": 1,
   "metadata": {},
   "outputs": [],
   "source": [
    "import numpy as np"
   ]
  },
  {
   "cell_type": "code",
   "execution_count": 2,
   "metadata": {},
   "outputs": [],
   "source": [
    "class SentenceGenerator(object):\n",
    "    \"\"\"Markov chain creator for simulating bad English.\n",
    "\n",
    "    Attributes:\n",
    "        words(set): unique words in training set\n",
    "        line(list): each striped/split sentance of training set\n",
    "        count(int): number of unique words\n",
    "        transition(np.array): transition matrix\n",
    "\n",
    "    Example:\n",
    "        >>> yoda = SentenceGenerator(\"Yoda.txt\")\n",
    "        >>> print(yoda.babble())\n",
    "        The dark side of loss is a path as one with you.\n",
    "    \"\"\"\n",
    "    def __init__(self, filename):\n",
    "        \"\"\"Read the specified file and build a transition matrix from its\n",
    "        contents. You may assume that the file has one complete sentence\n",
    "        written on each line.\n",
    "        \"\"\"\n",
    "        with open(filename) as f:\n",
    "            lines = f.readlines()\n",
    "        list_of_sentances = [sentance.split() for sentance in lines]\n",
    "        unique = set()\n",
    "\n",
    "        for k in range(len(list_of_sentances)):\n",
    "            set_of_words = set(list_of_sentances[k])\n",
    "            for word in set_of_words:\n",
    "                unique.add(word) #use set to find unique words\n",
    "\n",
    "        bounds = len(unique) + 2 #plus two for start and stop\n",
    "        transition_matrix = np.zeros((bounds,bounds))\n",
    "        states = ['$tart'] + list(unique) + ['$top']\n",
    "\n",
    "        for sentance in lines:\n",
    "            words = sentance.split()\n",
    "            transition_matrix[states.index(words[0]),0] += 1 #add starting words\n",
    "\n",
    "            for j, value in enumerate(words):\n",
    "                if j == len(words)-1:\n",
    "                    transition_matrix[states.index('$top'),states.index(words[j])] +=1 #add ending words\n",
    "                else:\n",
    "                    transition_matrix[states.index(words[j+1]),states.index(value)] +=1 #associate other words with their next value\n",
    "        transition_matrix[-1,-1] = 1 #final entry of matrix need to be mapped to itself\n",
    "        transition_matrix /= transition_matrix.sum(axis = 0) #normalize the matrix along the columns\n",
    "\n",
    "        self.transition = transition_matrix\n",
    "        self.states = states\n",
    "\n",
    "    def babble(self):\n",
    "        \"\"\"Begin at the start sate and use the strategy from\n",
    "        four_state_forecast() to transition through the Markov chain.\n",
    "        Keep track of the path through the chain and the corresponding words.\n",
    "        When the stop state is reached, stop transitioning and terminate the\n",
    "        sentence. Return the resulting sentence as a single string.\n",
    "        \"\"\"\n",
    "        i = 0\n",
    "        indecies = []\n",
    "        while self.states[i] != '$top':\n",
    "            predictions = np.random.multinomial(1,self.transition[:,i])\n",
    "            indecies.append(np.argmax(predictions))\n",
    "            i = indecies[-1]\n",
    "        indecies.pop() #get rid of '$top'\n",
    "        output = []\n",
    "        for j in indecies:\n",
    "            output.append(self.states[j])\n",
    "        return (' '.join(output)) #print it out as a string\n",
    "\n"
   ]
  },
  {
   "cell_type": "code",
   "execution_count": 15,
   "metadata": {},
   "outputs": [
    {
     "name": "stdout",
     "output_type": "stream",
     "text": [
      "0 Who he begins?\n",
      "1 Careful you the horizon.\n",
      "2 I watched.\n",
      "3 How can I have.\n",
      "4 Nothing more knowledge and that is.\n",
      "5 If a special session of the dark side of the Jedi must be when sensing the star and his father.\n",
      "6 To see the sway of greed, that misread could have turned to see.\n",
      "7 Yes, too old you the force.\n",
      "8 How can we should be.\n",
      "9 See through the future is.\n"
     ]
    }
   ],
   "source": [
    "obj = SentenceGenerator(\"yoda.txt\")\n",
    "for i in range(10):\n",
    "    print(i,obj.babble())"
   ]
  }
 ],
 "metadata": {
  "kernelspec": {
   "display_name": "Python 3",
   "language": "python",
   "name": "python3"
  },
  "language_info": {
   "codemirror_mode": {
    "name": "ipython",
    "version": 3
   },
   "file_extension": ".py",
   "mimetype": "text/x-python",
   "name": "python",
   "nbconvert_exporter": "python",
   "pygments_lexer": "ipython3",
   "version": "3.6.6"
  }
 },
 "nbformat": 4,
 "nbformat_minor": 2
}
