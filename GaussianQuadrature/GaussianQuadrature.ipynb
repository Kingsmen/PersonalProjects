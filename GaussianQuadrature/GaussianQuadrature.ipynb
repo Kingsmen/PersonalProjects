{
 "cells": [
  {
   "cell_type": "code",
   "execution_count": 1,
   "metadata": {},
   "outputs": [],
   "source": [
    "from scipy import linalg as la\n",
    "from scipy.sparse import diags\n",
    "import numpy as np\n",
    "import math\n",
    "from scipy.integrate import quad\n",
    "from scipy import stats\n",
    "from matplotlib import pyplot as plt\n",
    "from scipy.integrate import nquad"
   ]
  },
  {
   "cell_type": "code",
   "execution_count": 2,
   "metadata": {},
   "outputs": [],
   "source": [
    "class GaussianQuadrature:\n",
    "    \"\"\"Class for integrating functions on arbitrary intervals using Gaussian\n",
    "    quadrature with the Legendre polynomials or the Chebyshev polynomials.\n",
    "    \"\"\"\n",
    "    def __init__(self, n, polytype=\"legendre\"):\n",
    "        \"\"\"Calculate and store the n points and weights corresponding to the\n",
    "        specified class of orthogonal polynomial (Problem 3). Also store the\n",
    "        inverse weight function w(x)^{-1} = 1 / w(x).\n",
    "\n",
    "        Parameters:\n",
    "            n (int): Number of points and weights to use in the quadrature.\n",
    "            polytype (string): The class of orthogonal polynomials to use in\n",
    "                the quadrature. Must be either 'legendre' or 'chebyshev'.\n",
    "\n",
    "        Raises:\n",
    "            ValueError: if polytype is not 'legendre' or 'chebyshev'.\n",
    "        \"\"\"\n",
    "        self.n = n\n",
    "        if polytype not in ['legendre', 'chebyshev', 'Chebyshev', 'Legendre']:\n",
    "            raise ValueError('unknown polynomial type')\n",
    "        self.polytype = polytype\n",
    "        self.jacobi = None\n",
    "\n",
    "        #save weight function\n",
    "        if self.polytype == 'legendre':\n",
    "            self.f = lambda x: 1\n",
    "            self.measure = 2\n",
    "        else:\n",
    "            self.f = lambda x: 1/np.sqrt(1-x**2)\n",
    "            self.measure = np.pi\n",
    "\n",
    "        self.xi, self.weights = self.points_weights(n)\n",
    "        #define reciprocal\n",
    "        self.reciprocal = lambda x: 1/self.f(x)\n",
    "\n",
    "    def points_weights(self, n):\n",
    "        \"\"\"Calculate the n points and weights for Gaussian quadrature.\n",
    "\n",
    "        Parameters:\n",
    "            n (int): The number of desired points and weights.\n",
    "\n",
    "        Returns:\n",
    "            points ((n,) ndarray): The sampling points for the quadrature.\n",
    "            weights ((n,) ndarray): The weights corresponding to the points.\n",
    "        \"\"\"\n",
    "        if self.polytype == 'legendre':\n",
    "            alpha = lambda k: 0\n",
    "            beta = lambda k: k**2/(4*k**2-1)\n",
    "        else:\n",
    "            alpha = lambda k: 0\n",
    "            beta = lambda k: 1/2 if k ==1 else 1/4\n",
    "\n",
    "        diagonals = np.array([[math.sqrt(beta(i)) for i in range(1, n)], [alpha(i) for i in range(n)], [math.sqrt(beta(i)) for i in range(1, n)]])\n",
    "        self.jacobi = diags(diagonals,[-1,0,1]).toarray()\n",
    "        data = la.eig(self.jacobi)\n",
    "        self.xi = data[0]\n",
    "        eigvectors = data[1]\n",
    "        self.weights = np.ones(n)\n",
    "        for i in range(n):\n",
    "            self.weights[i] = self.measure * eigvectors[0][i]**2\n",
    "        return np.real(self.xi), np.real(self.weights)\n",
    "\n",
    "    def basic(self, f):\n",
    "        \"\"\"Approximate the integral of a f on the interval [-1,1].\"\"\"\n",
    "        g = lambda x: self.reciprocal(x) * f(x)\n",
    "        return np.real(self.weights).T @ g(np.real(self.xi))\n",
    "\n",
    "    def integrate(self, f, a, b):\n",
    "        \"\"\"Approximate the integral of a function on the interval [a,b].\n",
    "\n",
    "        Parameters:\n",
    "            f (function): Callable function to integrate.\n",
    "            a (float): Lower bound of integration.\n",
    "            b (float): Upper bound of integration.\n",
    "\n",
    "        Returns:\n",
    "            (float): Approximate value of the integral.\n",
    "        \"\"\"\n",
    "        h = lambda x: f((b-a)/2 *x + (a+b)/2) \n",
    "        return (b-a)/2 * self.basic(h)\n",
    "\n",
    "    def integrate2d(self, f, a1, b1, a2, b2):\n",
    "        \"\"\"Approximate the integral of the two-dimensional function f on\n",
    "        the interval [a1,b1]x[a2,b2].\n",
    "\n",
    "        Parameters:\n",
    "            f (function): A function to integrate that takes two parameters.\n",
    "            a1 (float): Lower bound of integration in the x-dimension.\n",
    "            b1 (float): Upper bound of integration in the x-dimension.\n",
    "            a2 (float): Lower bound of integration in the y-dimension.\n",
    "            b2 (float): Upper bound of integration in the y-dimension.\n",
    "\n",
    "        Returns:\n",
    "            (float): Approximate value of the integral.\n",
    "        \"\"\"\n",
    "        h = lambda x,y: f((b1-a1)/2*x + (b1+a1)/2, (b2-a2)/2*y + (b2+a2)/2)\n",
    "        g = lambda x,y: h(x,y) * self.reciprocal(x) *self.reciprocal(y)\n",
    "        return ((b1-a1)*(b2-a2))/4* np.sum([np.sum([self.weights[i]*self.weights[j]*g(np.real(self.xi[i]), np.real(self.xi[j])) for j in range(self.n)]) for i in range(self.n)] )\n"
   ]
  },
  {
   "cell_type": "code",
   "execution_count": 5,
   "metadata": {},
   "outputs": [],
   "source": [
    "def test2():\n",
    "    obj = GaussianQuadrature(5,'legendre')\n",
    "    print('legendre')\n",
    "    print(obj.points_weights(5))\n",
    "    obj = GaussianQuadrature(5,'chebyshev')\n",
    "    print('cheby')\n",
    "    print(obj.points_weights(5))\n",
    "\n",
    "def test3():\n",
    "    f = lambda x: 1 / np.sqrt(1 - x**2)\n",
    "    g = lambda x: x**2\n",
    "    temp = quad(g, -1, 1)[0]\n",
    "    print(temp)\n",
    "    obj = GaussianQuadrature(20,'legendre')\n",
    "    #obj.points_weights(100)\n",
    "    temp2 = obj.basic(g)\n",
    "    print(temp2)\n",
    "\n",
    "    obj = GaussianQuadrature(5,'Chebyshev')\n",
    "    obj.points_weights(5)\n",
    "    temp3 = obj.basic(f)\n",
    "    print(temp3)\n",
    "\n",
    "def test4():\n",
    "    f = lambda x: 1 / np.sqrt(1 - x**2)\n",
    "    temp = quad(f, 0, 1)[0]\n",
    "    print(temp)\n",
    "    obj = GaussianQuadrature(100,'legendre')\n",
    "    obj.points_weights(100)\n",
    "    temp2 = obj.integrate(f, 0,1)\n",
    "    print(temp2)\n",
    "\n",
    "    obj = GaussianQuadrature(5,'Chebyshev')\n",
    "    obj.points_weights(5)\n",
    "    temp3 = obj.integrate(f, 0,1)\n",
    "    print(temp3)\n",
    "\n",
    "def test6():\n",
    "    f = lambda x, y: np.sin(x) + np.cos(y)\n",
    "    print(nquad(f, [[-10, 10], [-1, 1]])[0])\n",
    "\n",
    "    obj = GaussianQuadrature(100,'legendre')\n",
    "    obj.points_weights(100)\n",
    "    temp2 = obj.integrate2d(f, -10,10, -1,1)\n",
    "    print(temp2)\n",
    "\n",
    "    obj = GaussianQuadrature(5,'Chebyshev')\n",
    "    obj.points_weights(5)\n",
    "    temp3 = obj.integrate2d(f, -10,10, -1,1)\n",
    "    print(temp3)"
   ]
  },
  {
   "cell_type": "code",
   "execution_count": 6,
   "metadata": {},
   "outputs": [
    {
     "name": "stdout",
     "output_type": "stream",
     "text": [
      "legendre\n",
      "(array([-9.06179846e-01, -5.38469310e-01, -1.77878879e-16,  9.06179846e-01,\n",
      "        5.38469310e-01]), array([0.23692689, 0.47862867, 0.56888889, 0.23692689, 0.47862867]))\n",
      "cheby\n",
      "(array([-9.51056516e-01, -5.87785252e-01,  1.46034345e-17,  9.51056516e-01,\n",
      "        5.87785252e-01]), array([0.62831853, 0.62831853, 0.62831853, 0.62831853, 0.62831853]))\n"
     ]
    }
   ],
   "source": [
    "test2()"
   ]
  },
  {
   "cell_type": "code",
   "execution_count": 7,
   "metadata": {},
   "outputs": [
    {
     "name": "stdout",
     "output_type": "stream",
     "text": [
      "0.6666666666666666\n",
      "0.666666666666669\n",
      "3.141592653589793\n"
     ]
    }
   ],
   "source": [
    "test3()"
   ]
  },
  {
   "cell_type": "code",
   "execution_count": 8,
   "metadata": {},
   "outputs": [
    {
     "name": "stdout",
     "output_type": "stream",
     "text": [
      "1.570796326794894\n",
      "1.5646702555594798\n",
      "1.579121088814481\n"
     ]
    }
   ],
   "source": [
    "test4()"
   ]
  },
  {
   "cell_type": "code",
   "execution_count": 9,
   "metadata": {},
   "outputs": [
    {
     "name": "stdout",
     "output_type": "stream",
     "text": [
      "33.658839392315855\n",
      "33.658839392315755\n",
      "34.56342495655723\n"
     ]
    }
   ],
   "source": [
    "test6()"
   ]
  },
  {
   "cell_type": "code",
   "execution_count": 19,
   "metadata": {},
   "outputs": [],
   "source": [
    "def PlotErrors():\n",
    "    \"\"\"Use scipy.stats to calculate the \"exact\" value F of the integral of\n",
    "    f(x) = (1/sqrt(2 pi))e^((-x^2)/2) from -3 to 2. Then repeat the following\n",
    "    experiment for n = 5, 10, 15, ..., 50.\n",
    "        1. Use the GaussianQuadrature class with the Legendre polynomials to\n",
    "           approximate F using n points and weights. Calculate and record the\n",
    "           error of the approximation.\n",
    "        2. Use the GaussianQuadrature class with the Chebyshev polynomials to\n",
    "           approximate F using n points and weights. Calculate and record the\n",
    "           error of the approximation.\n",
    "    Plot the errors against the number of points and weights n, using a log\n",
    "    scale for the y-axis. Finally, plot a horizontal line showing the error of\n",
    "    scipy.integrate.quad() (which doesn’t depend on n).\n",
    "    \"\"\"\n",
    "    f = lambda x: 1/np.sqrt(2*np.pi) * np.exp(-x**2/2)\n",
    "    n_list = [5*i for i in range(1,11)]\n",
    "\n",
    "    exact = stats.norm.cdf(2) - stats.norm.cdf(-3)\n",
    "    temp = quad(f, -3, 2)[0]\n",
    "    quad_list = [abs(exact - temp) for i in range(10)]\n",
    "\n",
    "    approx1 = []\n",
    "    approx2 = []\n",
    "    for n in n_list:\n",
    "        obj = GaussianQuadrature(n,'legendre')\n",
    "        obj.points_weights(n)\n",
    "        approx1.append(abs(obj.integrate(f,-3,2) - exact))\n",
    "\n",
    "        obj = GaussianQuadrature(n,'chebyshev')\n",
    "        obj.points_weights(n)\n",
    "        approx2.append(abs(obj.integrate(f,-3,2) - exact))\n",
    "\n",
    "    plt.yscale('log')\n",
    "    plt.plot(n_list,approx1, label='legendre')\n",
    "    plt.plot(n_list,approx2, label='chebyshev')\n",
    "    plt.plot(n_list,quad_list, label='Scipy quad')\n",
    "    plt.xlabel('N')\n",
    "    plt.ylabel('Error')\n",
    "    plt.legend()\n",
    "    plt.show()"
   ]
  },
  {
   "cell_type": "code",
   "execution_count": 20,
   "metadata": {},
   "outputs": [
    {
     "data": {
      "image/png": "[encoded data removed]",
      "text/plain": [
       "<Figure size 432x288 with 1 Axes>"
      ]
     },
     "metadata": {},
     "output_type": "display_data"
    }
   ],
   "source": [
    "PlotErrors()"
   ]
  },
  {
   "cell_type": "code",
   "execution_count": null,
   "metadata": {},
   "outputs": [],
   "source": []
  }
 ],
 "metadata": {
  "kernelspec": {
   "display_name": "Python 3",
   "language": "python",
   "name": "python3"
  },
  "language_info": {
   "codemirror_mode": {
    "name": "ipython",
    "version": 3
   },
   "file_extension": ".py",
   "mimetype": "text/x-python",
   "name": "python",
   "nbconvert_exporter": "python",
   "pygments_lexer": "ipython3",
   "version": "3.6.6"
  }
 },
 "nbformat": 4,
 "nbformat_minor": 2
}
